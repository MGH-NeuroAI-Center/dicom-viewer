{
 "cells": [
  {
   "cell_type": "code",
   "execution_count": 5,
   "id": "4f3a7ecc",
   "metadata": {},
   "outputs": [],
   "source": [
    "# img_viewer.py\n",
    "\n",
    "import PySimpleGUI as sg\n",
    "import os.path\n",
    "\n",
    "# First the window layout in 2 columns\n",
    "\n",
    "file_list_column = [\n",
    "    [\n",
    "        sg.Text(\"Image Folder\"),\n",
    "        sg.In(size=(25, 1), enable_events=True, key=\"-FOLDER-\"),\n",
    "        sg.FolderBrowse(),\n",
    "    ],\n",
    "    [\n",
    "        sg.Listbox(\n",
    "            values=[], enable_events=True, size=(40, 20), key=\"-FILE LIST-\"\n",
    "        )\n",
    "    ],\n",
    "]\n",
    "\n",
    "# For now will only show the name of the file that was chosen\n",
    "image_viewer_column = [\n",
    "    [sg.Text(\"Choose an image!! from list on left:\")],\n",
    "    [sg.Text(size=(40, 1), key=\"-TOUT-\")],\n",
    "    [sg.Image(key=\"-IMAGE-\")],\n",
    "]\n",
    "\n",
    "# ----- Full layout -----\n",
    "layout = [\n",
    "    [\n",
    "        sg.Column(file_list_column),\n",
    "        sg.VSeperator(),\n",
    "        sg.Column(image_viewer_column),\n",
    "    ]\n",
    "]\n",
    "\n",
    "window = sg.Window(\"Image Viewer\", layout)\n",
    "\n",
    "# Run the Event Loop\n",
    "while True:\n",
    "    event, values = window.read()\n",
    "    if event == \"Exit\" or event == sg.WIN_CLOSED:\n",
    "        break\n",
    "    # Folder name was filled in, make a list of files in the folder\n",
    "    if event == \"-FOLDER-\":\n",
    "        folder = values[\"-FOLDER-\"]\n",
    "        try:\n",
    "            # Get list of files in folder\n",
    "            file_list = os.listdir(folder)\n",
    "        except:\n",
    "            file_list = []\n",
    "\n",
    "        fnames = [\n",
    "            f\n",
    "            for f in file_list\n",
    "            if os.path.isfile(os.path.join(folder, f))\n",
    "            and f.lower().endswith((\".png\", \".gif\"))\n",
    "        ]\n",
    "        window[\"-FILE LIST-\"].update(fnames)\n",
    "    elif event == \"-FILE LIST-\":  # A file was chosen from the listbox\n",
    "        try:\n",
    "            filename = os.path.join(\n",
    "                values[\"-FOLDER-\"], values[\"-FILE LIST-\"][0]\n",
    "            )\n",
    "            window[\"-TOUT-\"].update(filename)\n",
    "            window[\"-IMAGE-\"].update(filename=filename)\n",
    "\n",
    "        except:\n",
    "            pass\n",
    "\n",
    "window.close()"
   ]
  },
  {
   "cell_type": "code",
   "execution_count": 3,
   "id": "54d74379",
   "metadata": {},
   "outputs": [
    {
     "name": "stdout",
     "output_type": "stream",
     "text": [
      "Collecting PySimpleGUI\n",
      "  Obtaining dependency information for PySimpleGUI from https://files.pythonhosted.org/packages/f7/48/df06293e1015e9a99d0c94e40a187abb95df391aeb33528fd60e7584ccb4/PySimpleGUI-5.0.4-py3-none-any.whl.metadata\n",
      "  Downloading PySimpleGUI-5.0.4-py3-none-any.whl.metadata (6.6 kB)\n",
      "Collecting rsa (from PySimpleGUI)\n",
      "  Obtaining dependency information for rsa from https://files.pythonhosted.org/packages/49/97/fa78e3d2f65c02c8e1268b9aba606569fe97f6c8f7c2d74394553347c145/rsa-4.9-py3-none-any.whl.metadata\n",
      "  Downloading rsa-4.9-py3-none-any.whl.metadata (4.2 kB)\n",
      "Requirement already satisfied: pyasn1>=0.1.3 in c:\\users\\ag1650\\appdata\\local\\anaconda3\\lib\\site-packages (from rsa->PySimpleGUI) (0.4.8)\n",
      "Downloading PySimpleGUI-5.0.4-py3-none-any.whl (1.0 MB)\n",
      "   ---------------------------------------- 0.0/1.0 MB ? eta -:--:--\n",
      "   -- ------------------------------------- 0.1/1.0 MB 1.7 MB/s eta 0:00:01\n",
      "   -------------- ------------------------- 0.4/1.0 MB 4.6 MB/s eta 0:00:01\n",
      "   ---------------------------------------  1.0/1.0 MB 7.9 MB/s eta 0:00:01\n",
      "   ---------------------------------------- 1.0/1.0 MB 7.1 MB/s eta 0:00:00\n",
      "Downloading rsa-4.9-py3-none-any.whl (34 kB)\n",
      "Installing collected packages: rsa, PySimpleGUI\n",
      "Successfully installed PySimpleGUI-5.0.4 rsa-4.9\n"
     ]
    }
   ],
   "source": [
    "!pip install PySimpleGUI"
   ]
  },
  {
   "cell_type": "code",
   "execution_count": null,
   "id": "7efd032b",
   "metadata": {},
   "outputs": [],
   "source": []
  }
 ],
 "metadata": {
  "kernelspec": {
   "display_name": "Python 3 (ipykernel)",
   "language": "python",
   "name": "python3"
  },
  "language_info": {
   "codemirror_mode": {
    "name": "ipython",
    "version": 3
   },
   "file_extension": ".py",
   "mimetype": "text/x-python",
   "name": "python",
   "nbconvert_exporter": "python",
   "pygments_lexer": "ipython3",
   "version": "3.11.4"
  }
 },
 "nbformat": 4,
 "nbformat_minor": 5
}
